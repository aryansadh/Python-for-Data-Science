{
 "cells": [
  {
   "cell_type": "markdown",
   "metadata": {},
   "source": [
    "# 00 - Homework Discussion\n",
    "> Understanding grades\n",
    "\n",
    "## Question 2:\n",
    "Suppose you are given a dictionary of 3 numbers, where they keys will be student names and the values will be grades.  Write a function which returns the maximum grade.\n",
    "- Bonus reflection:  Can you return the POSITION of the maximum grade?  Why or why not?\n",
    "- Bonus 2: Modify this code so that the key associated with the maximum grade is returned.\n",
    "- Bonus 3: Modify this code so that the key and value corresponding to the maximum grade is returned."
   ]
  },
  {
   "cell_type": "code",
   "execution_count": null,
   "metadata": {},
   "outputs": [],
   "source": []
  },
  {
   "cell_type": "code",
   "execution_count": null,
   "metadata": {},
   "outputs": [],
   "source": []
  },
  {
   "cell_type": "code",
   "execution_count": null,
   "metadata": {},
   "outputs": [],
   "source": []
  },
  {
   "cell_type": "markdown",
   "metadata": {},
   "source": [
    "## Bonus\n",
    "\n",
    "Consider the dictionary of question 3.  This corresponds to student grades on a single individual test.  What about if you wanted to know about student grades over 5 tests?\n",
    "What would this dictionary look like?  (Hint: the values of a dictionary can be of arbitrary type, including lists)\n",
    "Write a function which will return the name of the student with the highest average grade and the grade value."
   ]
  },
  {
   "cell_type": "code",
   "execution_count": null,
   "metadata": {},
   "outputs": [],
   "source": []
  },
  {
   "cell_type": "markdown",
   "metadata": {},
   "source": [
    "What about the mean of a list?"
   ]
  },
  {
   "cell_type": "code",
   "execution_count": null,
   "metadata": {},
   "outputs": [],
   "source": []
  },
  {
   "cell_type": "code",
   "execution_count": null,
   "metadata": {},
   "outputs": [],
   "source": []
  },
  {
   "cell_type": "code",
   "execution_count": null,
   "metadata": {},
   "outputs": [],
   "source": []
  },
  {
   "cell_type": "code",
   "execution_count": null,
   "metadata": {},
   "outputs": [],
   "source": []
  },
  {
   "cell_type": "markdown",
   "metadata": {},
   "source": [
    "#unpleasant.\n",
    "# More pleasant:\n",
    "Pandas:\n",
    "- Implicit vs Explicit index\n",
    "- Functionality"
   ]
  },
  {
   "cell_type": "code",
   "execution_count": null,
   "metadata": {},
   "outputs": [],
   "source": []
  },
  {
   "cell_type": "code",
   "execution_count": null,
   "metadata": {},
   "outputs": [],
   "source": []
  },
  {
   "cell_type": "code",
   "execution_count": null,
   "metadata": {},
   "outputs": [],
   "source": []
  },
  {
   "cell_type": "code",
   "execution_count": null,
   "metadata": {},
   "outputs": [],
   "source": []
  },
  {
   "cell_type": "code",
   "execution_count": null,
   "metadata": {},
   "outputs": [],
   "source": []
  },
  {
   "cell_type": "code",
   "execution_count": null,
   "metadata": {},
   "outputs": [],
   "source": []
  },
  {
   "cell_type": "code",
   "execution_count": null,
   "metadata": {},
   "outputs": [],
   "source": []
  },
  {
   "cell_type": "markdown",
   "metadata": {},
   "source": [
    "- What if there were NAs?\n",
    "- What if there you wanted to compute the median grade?\n",
    "- Standard deviations?\n",
    "- Other numerical functions\n",
    "\n",
    "Easier or harder in pandas vs basic Python?  Thoughts?"
   ]
  },
  {
   "cell_type": "markdown",
   "metadata": {},
   "source": [
    "# Pros and Cons\n",
    "Pandas:\n",
    "+ Tons of built-in arithmetic and numerical manipulation\n",
    "+ Indices tied to rows/columns\n",
    "+ Great for analysis\n",
    "+ Interplay with other packages (e.g., plotting, numerical analysis (numPy), modeling (scikit-learn))\n",
    "- A bit more rigid for functionalization (must know the names/indices of column/index names)\n",
    "- Learning curve\n",
    "\n",
    "Basic Python data structures:\n",
    "+ A bit less rigid for functionalization\n",
    "+ No extra packages needed\n",
    "+ Plays nice with some other packages (e.g., scikit-learn)\n",
    "- More and complex code needed for analysis that takes a single line in pandas\n",
    "- Inscrutable, unreadable, deparseable code for maintainability, especially in Jupyter notebooks\n",
    "- Lots of basic analytic functions must be reinvented by hand\n",
    "\n",
    "Your thoughts?"
   ]
  }
 ],
 "metadata": {
  "kernelspec": {
   "display_name": "Python 3",
   "language": "python",
   "name": "python3"
  },
  "language_info": {
   "codemirror_mode": {
    "name": "ipython",
    "version": 3
   },
   "file_extension": ".py",
   "mimetype": "text/x-python",
   "name": "python",
   "nbconvert_exporter": "python",
   "pygments_lexer": "ipython3",
   "version": "3.7.4"
  }
 },
 "nbformat": 4,
 "nbformat_minor": 4
}
