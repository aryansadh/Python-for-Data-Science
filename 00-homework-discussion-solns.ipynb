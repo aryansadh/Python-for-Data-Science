{
 "cells": [
  {
   "cell_type": "markdown",
   "metadata": {},
   "source": [
    "# 00 - Homework Discussion\n",
    "> Understanding grades\n",
    "\n",
    "## Question 2:\n",
    "Suppose you are given a dictionary of 3 numbers, where they keys will be student names and the values will be grades.  Write a function which returns the maximum grade.\n",
    "- Bonus reflection:  Can you return the POSITION of the maximum grade?  Why or why not?\n",
    "- Bonus 2: Modify this code so that the key associated with the maximum grade is returned.\n",
    "- Bonus 3: Modify this code so that the key and value corresponding to the maximum grade is returned."
   ]
  },
  {
   "cell_type": "code",
   "execution_count": 8,
   "metadata": {},
   "outputs": [],
   "source": [
    "def get_max_grade(student_grades):\n",
    "    max_grade = -10000\n",
    "    max_student = None\n",
    "    \n",
    "    for student, grade in student_grades.items():\n",
    "        if grade > max_grade:\n",
    "            max_grade = grade\n",
    "            max_student = student\n",
    "    \n",
    "    return max_student, max_grade"
   ]
  },
  {
   "cell_type": "code",
   "execution_count": 9,
   "metadata": {},
   "outputs": [
    {
     "data": {
      "text/plain": [
       "{'Morgan': 98, 'Anna': 100, 'Taylor': 97}"
      ]
     },
     "execution_count": 9,
     "metadata": {},
     "output_type": "execute_result"
    }
   ],
   "source": [
    "#Make test case\n",
    "student_grades = {'Morgan': 98, 'Anna': 100, 'Taylor': 97}\n",
    "student_grades"
   ]
  },
  {
   "cell_type": "code",
   "execution_count": 10,
   "metadata": {},
   "outputs": [
    {
     "data": {
      "text/plain": [
       "('Anna', 100)"
      ]
     },
     "execution_count": 10,
     "metadata": {},
     "output_type": "execute_result"
    }
   ],
   "source": [
    "#test test case\n",
    "get_max_grade(student_grades)"
   ]
  },
  {
   "cell_type": "markdown",
   "metadata": {},
   "source": [
    "## Bonus\n",
    "\n",
    "Consider the dictionary of question 3.  This corresponds to student grades on a single individual test.  What about if you wanted to know about student grades over 5 tests?\n",
    "What would this dictionary look like?  (Hint: the values of a dictionary can be of arbitrary type, including lists)\n",
    "Write a function which will return the name of the student with the highest average grade and the grade value."
   ]
  },
  {
   "cell_type": "code",
   "execution_count": 12,
   "metadata": {},
   "outputs": [
    {
     "data": {
      "text/plain": [
       "{'Morgan': [90, 92, 34, 25, 26],\n",
       " 'Anna': [34, 85, 100, 23, 24],\n",
       " 'Taylor': [45, 46, 23, 90, 97]}"
      ]
     },
     "execution_count": 12,
     "metadata": {},
     "output_type": "execute_result"
    }
   ],
   "source": [
    "student_gradebook = {'Morgan': [90, 92, 34, 25, 26],\n",
    "                     'Anna': [34, 85, 100, 23, 24],\n",
    "                     'Taylor': [45, 46, 23, 90, 97]}\n",
    "student_gradebook"
   ]
  },
  {
   "cell_type": "markdown",
   "metadata": {},
   "source": [
    "What about the mean of a list?"
   ]
  },
  {
   "cell_type": "code",
   "execution_count": 16,
   "metadata": {},
   "outputs": [],
   "source": [
    "def list_mean(list_nos):\n",
    "    \n",
    "    list_sum = 0\n",
    "    \n",
    "    for no in list_nos:\n",
    "        list_sum += no\n",
    "    \n",
    "    return list_sum/len(list_nos)"
   ]
  },
  {
   "cell_type": "code",
   "execution_count": 17,
   "metadata": {},
   "outputs": [
    {
     "data": {
      "text/plain": [
       "53.4"
      ]
     },
     "execution_count": 17,
     "metadata": {},
     "output_type": "execute_result"
    }
   ],
   "source": [
    "student_gradebook['Morgan']"
   ]
  },
  {
   "cell_type": "code",
   "execution_count": 18,
   "metadata": {},
   "outputs": [],
   "source": [
    "def get_max_grade(student_grades):\n",
    "    max_grade = -10000\n",
    "    max_student = None\n",
    "    \n",
    "    for student, grades in student_grades.items():\n",
    "        \n",
    "        mean_grade = list_mean(grades)\n",
    "        \n",
    "        if mean_grade > max_grade:\n",
    "            max_grade = mean_grade\n",
    "            max_student = student\n",
    "    \n",
    "    return max_student, max_grade"
   ]
  },
  {
   "cell_type": "code",
   "execution_count": 19,
   "metadata": {},
   "outputs": [
    {
     "data": {
      "text/plain": [
       "('Taylor', 60.2)"
      ]
     },
     "execution_count": 19,
     "metadata": {},
     "output_type": "execute_result"
    }
   ],
   "source": [
    "get_max_grade(student_gradebook)"
   ]
  },
  {
   "cell_type": "markdown",
   "metadata": {},
   "source": [
    "#unpleasant.\n",
    "# More pleasant:\n",
    "Pandas:\n",
    "- Implicit vs Explicit index\n",
    "- Functionality"
   ]
  },
  {
   "cell_type": "code",
   "execution_count": 20,
   "metadata": {},
   "outputs": [],
   "source": [
    "import pandas as pd"
   ]
  },
  {
   "cell_type": "code",
   "execution_count": 36,
   "metadata": {},
   "outputs": [
    {
     "data": {
      "text/html": [
       "<div>\n",
       "<style scoped>\n",
       "    .dataframe tbody tr th:only-of-type {\n",
       "        vertical-align: middle;\n",
       "    }\n",
       "\n",
       "    .dataframe tbody tr th {\n",
       "        vertical-align: top;\n",
       "    }\n",
       "\n",
       "    .dataframe thead th {\n",
       "        text-align: right;\n",
       "    }\n",
       "</style>\n",
       "<table border=\"1\" class=\"dataframe\">\n",
       "  <thead>\n",
       "    <tr style=\"text-align: right;\">\n",
       "      <th></th>\n",
       "      <th>0</th>\n",
       "      <th>1</th>\n",
       "      <th>2</th>\n",
       "      <th>3</th>\n",
       "      <th>4</th>\n",
       "    </tr>\n",
       "  </thead>\n",
       "  <tbody>\n",
       "    <tr>\n",
       "      <th>Morgan</th>\n",
       "      <td>90</td>\n",
       "      <td>92</td>\n",
       "      <td>34</td>\n",
       "      <td>25</td>\n",
       "      <td>26</td>\n",
       "    </tr>\n",
       "    <tr>\n",
       "      <th>Anna</th>\n",
       "      <td>34</td>\n",
       "      <td>85</td>\n",
       "      <td>100</td>\n",
       "      <td>23</td>\n",
       "      <td>24</td>\n",
       "    </tr>\n",
       "    <tr>\n",
       "      <th>Taylor</th>\n",
       "      <td>45</td>\n",
       "      <td>46</td>\n",
       "      <td>23</td>\n",
       "      <td>90</td>\n",
       "      <td>97</td>\n",
       "    </tr>\n",
       "  </tbody>\n",
       "</table>\n",
       "</div>"
      ],
      "text/plain": [
       "         0   1    2   3   4\n",
       "Morgan  90  92   34  25  26\n",
       "Anna    34  85  100  23  24\n",
       "Taylor  45  46   23  90  97"
      ]
     },
     "execution_count": 36,
     "metadata": {},
     "output_type": "execute_result"
    }
   ],
   "source": [
    "grade_df = pd.DataFrame(student_gradebook).T\n",
    "grade_df"
   ]
  },
  {
   "cell_type": "code",
   "execution_count": 37,
   "metadata": {},
   "outputs": [
    {
     "data": {
      "text/html": [
       "<div>\n",
       "<style scoped>\n",
       "    .dataframe tbody tr th:only-of-type {\n",
       "        vertical-align: middle;\n",
       "    }\n",
       "\n",
       "    .dataframe tbody tr th {\n",
       "        vertical-align: top;\n",
       "    }\n",
       "\n",
       "    .dataframe thead th {\n",
       "        text-align: right;\n",
       "    }\n",
       "</style>\n",
       "<table border=\"1\" class=\"dataframe\">\n",
       "  <thead>\n",
       "    <tr style=\"text-align: right;\">\n",
       "      <th></th>\n",
       "      <th>0</th>\n",
       "      <th>1</th>\n",
       "      <th>2</th>\n",
       "      <th>3</th>\n",
       "      <th>4</th>\n",
       "    </tr>\n",
       "  </thead>\n",
       "  <tbody>\n",
       "    <tr>\n",
       "      <th>0</th>\n",
       "      <td>90</td>\n",
       "      <td>92</td>\n",
       "      <td>34</td>\n",
       "      <td>25</td>\n",
       "      <td>26</td>\n",
       "    </tr>\n",
       "    <tr>\n",
       "      <th>1</th>\n",
       "      <td>34</td>\n",
       "      <td>85</td>\n",
       "      <td>100</td>\n",
       "      <td>23</td>\n",
       "      <td>24</td>\n",
       "    </tr>\n",
       "    <tr>\n",
       "      <th>2</th>\n",
       "      <td>45</td>\n",
       "      <td>46</td>\n",
       "      <td>23</td>\n",
       "      <td>90</td>\n",
       "      <td>97</td>\n",
       "    </tr>\n",
       "  </tbody>\n",
       "</table>\n",
       "</div>"
      ],
      "text/plain": [
       "    0   1    2   3   4\n",
       "0  90  92   34  25  26\n",
       "1  34  85  100  23  24\n",
       "2  45  46   23  90  97"
      ]
     },
     "execution_count": 37,
     "metadata": {},
     "output_type": "execute_result"
    }
   ],
   "source": [
    "#implicit indices\n",
    "grade_df.reset_index(drop=True)"
   ]
  },
  {
   "cell_type": "code",
   "execution_count": 39,
   "metadata": {},
   "outputs": [
    {
     "data": {
      "text/html": [
       "<div>\n",
       "<style scoped>\n",
       "    .dataframe tbody tr th:only-of-type {\n",
       "        vertical-align: middle;\n",
       "    }\n",
       "\n",
       "    .dataframe tbody tr th {\n",
       "        vertical-align: top;\n",
       "    }\n",
       "\n",
       "    .dataframe thead th {\n",
       "        text-align: right;\n",
       "    }\n",
       "</style>\n",
       "<table border=\"1\" class=\"dataframe\">\n",
       "  <thead>\n",
       "    <tr style=\"text-align: right;\">\n",
       "      <th></th>\n",
       "      <th>Test 1</th>\n",
       "      <th>Test 2</th>\n",
       "      <th>Test 3</th>\n",
       "      <th>Test 4</th>\n",
       "      <th>Test 5</th>\n",
       "    </tr>\n",
       "  </thead>\n",
       "  <tbody>\n",
       "    <tr>\n",
       "      <th>Morgan</th>\n",
       "      <td>90</td>\n",
       "      <td>92</td>\n",
       "      <td>34</td>\n",
       "      <td>25</td>\n",
       "      <td>26</td>\n",
       "    </tr>\n",
       "    <tr>\n",
       "      <th>Anna</th>\n",
       "      <td>34</td>\n",
       "      <td>85</td>\n",
       "      <td>100</td>\n",
       "      <td>23</td>\n",
       "      <td>24</td>\n",
       "    </tr>\n",
       "    <tr>\n",
       "      <th>Taylor</th>\n",
       "      <td>45</td>\n",
       "      <td>46</td>\n",
       "      <td>23</td>\n",
       "      <td>90</td>\n",
       "      <td>97</td>\n",
       "    </tr>\n",
       "  </tbody>\n",
       "</table>\n",
       "</div>"
      ],
      "text/plain": [
       "        Test 1  Test 2  Test 3  Test 4  Test 5\n",
       "Morgan      90      92      34      25      26\n",
       "Anna        34      85     100      23      24\n",
       "Taylor      45      46      23      90      97"
      ]
     },
     "execution_count": 39,
     "metadata": {},
     "output_type": "execute_result"
    }
   ],
   "source": [
    "#all explicit indices\n",
    "grade_df.columns=['Test 1', 'Test 2', 'Test 3', 'Test 4', 'Test 5']\n",
    "grade_df"
   ]
  },
  {
   "cell_type": "code",
   "execution_count": 44,
   "metadata": {},
   "outputs": [
    {
     "data": {
      "text/plain": [
       "60.2"
      ]
     },
     "execution_count": 44,
     "metadata": {},
     "output_type": "execute_result"
    }
   ],
   "source": [
    "#attempt previous work\n",
    "grade_df.mean(axis=1).max()"
   ]
  },
  {
   "cell_type": "code",
   "execution_count": 52,
   "metadata": {},
   "outputs": [
    {
     "data": {
      "text/plain": [
       "'Taylor'"
      ]
     },
     "execution_count": 52,
     "metadata": {},
     "output_type": "execute_result"
    }
   ],
   "source": [
    "grade_df.mean(axis=1).idxmax()"
   ]
  },
  {
   "cell_type": "code",
   "execution_count": 46,
   "metadata": {},
   "outputs": [
    {
     "data": {
      "text/plain": [
       "Taylor    60.2\n",
       "dtype: float64"
      ]
     },
     "execution_count": 46,
     "metadata": {},
     "output_type": "execute_result"
    }
   ],
   "source": [
    "grade_df.mean(axis=1)[grade_df.mean(axis=1)==grade_df.mean(axis=1).max()]"
   ]
  },
  {
   "cell_type": "markdown",
   "metadata": {},
   "source": [
    "- What if there were NAs?\n",
    "- What if there you wanted to compute the median grade?\n",
    "- Standard deviations?\n",
    "- Other numerical functions\n",
    "\n",
    "Easier or harder in pandas vs basic Python?  Thoughts?"
   ]
  },
  {
   "cell_type": "markdown",
   "metadata": {},
   "source": [
    "# Pros and Cons\n",
    "Pandas:\n",
    "+ Tons of built-in arithmetic and numerical manipulation\n",
    "+ Indices tied to rows/columns\n",
    "+ Great for analysis\n",
    "+ Interplay with other packages (e.g., plotting, numerical analysis (numPy), modeling (scikit-learn))\n",
    "- A bit more rigid for functionalization (must know the names/indices of column/index names)\n",
    "- Learning curve\n",
    "\n",
    "Basic Python data structures:\n",
    "+ A bit less rigid for functionalization\n",
    "+ No extra packages needed\n",
    "+ Plays nice with some other packages (e.g., scikit-learn)\n",
    "- More and complex code needed for analysis that takes a single line in pandas\n",
    "- Inscrutable, unreadable, deparseable code for maintainability, especially in Jupyter notebooks\n",
    "- Lots of basic analytic functions must be reinvented by hand\n",
    "\n",
    "Your thoughts?"
   ]
  }
 ],
 "metadata": {
  "kernelspec": {
   "display_name": "Python 3",
   "language": "python",
   "name": "python3"
  },
  "language_info": {
   "codemirror_mode": {
    "name": "ipython",
    "version": 3
   },
   "file_extension": ".py",
   "mimetype": "text/x-python",
   "name": "python",
   "nbconvert_exporter": "python",
   "pygments_lexer": "ipython3",
   "version": "3.7.4"
  }
 },
 "nbformat": 4,
 "nbformat_minor": 4
}
