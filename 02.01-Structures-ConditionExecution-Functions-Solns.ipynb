{
 "cells": [
  {
   "cell_type": "markdown",
   "metadata": {},
   "source": [
    "# Data Structures, Comparisons, Loops, and Functions"
   ]
  },
  {
   "cell_type": "markdown",
   "metadata": {},
   "source": [
    "In this notebook, we will learn about various data structures, comparison statements, some useful tools for working with lists like 'for' loops and list comprehension, and functions. \n",
    "\n",
    "Follow along with the lecture running each line when it is shown to get a better understanding of these Python concepts that will be very important going forward!\n",
    "\n",
    "Tutorial adapted from: A Whirlwind Tour of Python by Jake VanderPlas (O’Reilly). Copyright 2016 O’Reilly Media, Inc., 978-1-491-96465-1\n",
    "\n",
    "More information about these and many other topics can be found at: https://github.com/jakevdp/WhirlwindTourOfPython"
   ]
  },
  {
   "cell_type": "markdown",
   "metadata": {},
   "source": [
    "## Data Structures"
   ]
  },
  {
   "cell_type": "markdown",
   "metadata": {},
   "source": [
    "The data structures we will be covering are ``lists``, ``dictionaries``, ``tuples``, and ``sets``, with a much heavier focus on the first two."
   ]
  },
  {
   "cell_type": "markdown",
   "metadata": {},
   "source": [
    "### Lists"
   ]
  },
  {
   "cell_type": "markdown",
   "metadata": {},
   "source": [
    "In Python, creating a new list is very simple. If you remember the way we declared variables in the pre-workshop notebook, lists can be declared in the same way. To specify to Python that we are creating a list, enclose the data you want in the list in brackets ``[ ]``, separated by commas.\n",
    "\n",
    "For example:"
   ]
  },
  {
   "cell_type": "code",
   "execution_count": 15,
   "metadata": {},
   "outputs": [
    {
     "data": {
      "text/plain": [
       "list"
      ]
     },
     "execution_count": 15,
     "metadata": {},
     "output_type": "execute_result"
    }
   ],
   "source": [
    "new_list = [0,1,2,3,4,5]\n",
    "# Let's check the type of the object we just made\n",
    "type(new_list)"
   ]
  },
  {
   "cell_type": "code",
   "execution_count": 5,
   "metadata": {},
   "outputs": [
    {
     "name": "stdout",
     "output_type": "stream",
     "text": [
      "[0, 1, 2, 3, 4, 5]\n"
     ]
    }
   ],
   "source": [
    "# Calling print on the list simply prints out what the list is!\n",
    "print(new_list)"
   ]
  },
  {
   "cell_type": "markdown",
   "metadata": {},
   "source": [
    "Now that we have this list, let's look at the things we can do with it\n",
    "\n",
    "First, we should be aware that each element of a list has an index. In Python, indexing starts at 0, so the first element in the list could be accessed by new_list\\[0\\]\n",
    "\n",
    "Let's try that:"
   ]
  },
  {
   "cell_type": "code",
   "execution_count": 8,
   "metadata": {},
   "outputs": [
    {
     "name": "stdout",
     "output_type": "stream",
     "text": [
      "0\n"
     ]
    }
   ],
   "source": [
    "# Return the first item\n",
    "print(new_list[0])"
   ]
  },
  {
   "cell_type": "markdown",
   "metadata": {},
   "source": [
    "Something we can also do is input a negative index to start counting from the end and moving forward. This starts at -1 which returns the last item in the list, then -2 returns the second-to-last item, and so on.\n",
    "\n",
    "Here's an example of that:"
   ]
  },
  {
   "cell_type": "code",
   "execution_count": 10,
   "metadata": {},
   "outputs": [
    {
     "name": "stdout",
     "output_type": "stream",
     "text": [
      "4\n"
     ]
    }
   ],
   "source": [
    "# Return the second-to-last item\n",
    "print(new_list[-2])"
   ]
  },
  {
   "cell_type": "markdown",
   "metadata": {},
   "source": [
    "The next thing we might want to do with a list is to check the length of it. We can use the ``len()`` function to get the number of elements that are in a list.\n",
    "\n",
    "Here's how that works:"
   ]
  },
  {
   "cell_type": "code",
   "execution_count": 11,
   "metadata": {},
   "outputs": [
    {
     "data": {
      "text/plain": [
       "6"
      ]
     },
     "execution_count": 11,
     "metadata": {},
     "output_type": "execute_result"
    }
   ],
   "source": [
    "# Get the length of a list using len()\n",
    "print(len(new_list))"
   ]
  },
  {
   "cell_type": "markdown",
   "metadata": {},
   "source": [
    "Next, we'll learn how to add items to a list. One way to go about this is to use ``list.append()`` to add that item onto the end of the list. \n",
    "\n",
    "The syntax for that looks like this:"
   ]
  },
  {
   "cell_type": "code",
   "execution_count": 41,
   "metadata": {},
   "outputs": [
    {
     "name": "stdout",
     "output_type": "stream",
     "text": [
      "[0, 1, 2, 3, 4, 5, 6]\n"
     ]
    }
   ],
   "source": [
    "# Append the number 6 to the list  \n",
    "# Note that every time you run this, it will add another 6 to the list, so be careful!\n",
    "new_list.append(6) \n",
    "print(new_list)"
   ]
  },
  {
   "cell_type": "markdown",
   "metadata": {},
   "source": [
    "Another way to add items is through list addition. Entering ``list_a + list_b`` will return ``list_a`` with ``list_b`` appended onto the end.\n",
    "\n",
    "Here's a look at that:"
   ]
  },
  {
   "cell_type": "code",
   "execution_count": 3,
   "metadata": {},
   "outputs": [
    {
     "name": "stdout",
     "output_type": "stream",
     "text": [
      "[0, 1, 2, 3, 4, 5, 6, 7, 8]\n"
     ]
    }
   ],
   "source": [
    "# Print the list plus the numbers [6,7,8]\n",
    "print(new_list + [6,7,8])\n",
    "\n",
    "# Note that printing this doesn't actually add these items to the list,\n",
    "# just like printing 4 + 3 doesn't make 4 = 7 aftwerwards!"
   ]
  },
  {
   "cell_type": "markdown",
   "metadata": {},
   "source": [
    "We should also keep in mind that there is no requirement that everything in a list be the same type! If we wanted to add a string to our list of numbers, we're totally allowed to do that.\n",
    "\n",
    "Let's try it:"
   ]
  },
  {
   "cell_type": "code",
   "execution_count": 43,
   "metadata": {},
   "outputs": [
    {
     "name": "stdout",
     "output_type": "stream",
     "text": [
      "[0, 1, 2, 3, 4, 5, 6, 'String?']\n"
     ]
    }
   ],
   "source": [
    "# Add a string to the list\n",
    "# Rememeber again, every time you run this, it will add the string again!\n",
    "new_list.append(\"String?\")\n",
    "print(new_list)"
   ]
  },
  {
   "cell_type": "code",
   "execution_count": 2,
   "metadata": {},
   "outputs": [],
   "source": [
    "# Now that we're done adding things, run this to get back to the original list\n",
    "new_list = [0,1,2,3,4,5]"
   ]
  },
  {
   "cell_type": "markdown",
   "metadata": {},
   "source": [
    "Finally, let's look at some things we can do with the indexing to select multiple elements at a time. \n",
    "\n",
    "Using the ``:`` character, we can select all elements between two elements. It will include the element at the index on the left, but not the element at the index on on the right.\n",
    "\n",
    "Here's a few examples:"
   ]
  },
  {
   "cell_type": "code",
   "execution_count": 22,
   "metadata": {},
   "outputs": [
    {
     "name": "stdout",
     "output_type": "stream",
     "text": [
      "[0, 1, 2]\n"
     ]
    }
   ],
   "source": [
    "# Select the first 3 items\n",
    "print(new_list[0:3])"
   ]
  },
  {
   "cell_type": "markdown",
   "metadata": {},
   "source": [
    "If you leave the space empty before or after the ``:``, it will go until the end of the list!"
   ]
  },
  {
   "cell_type": "code",
   "execution_count": 24,
   "metadata": {},
   "outputs": [
    {
     "name": "stdout",
     "output_type": "stream",
     "text": [
      "[2, 3, 4, 5]\n"
     ]
    }
   ],
   "source": [
    "# Select from item at index 2 until the end of the list\n",
    "print(new_list[2:]) "
   ]
  },
  {
   "cell_type": "markdown",
   "metadata": {},
   "source": [
    " This works the same if you put nothing before the ``:``, it will start at the beginning of the list!"
   ]
  },
  {
   "cell_type": "code",
   "execution_count": 25,
   "metadata": {},
   "outputs": [
    {
     "name": "stdout",
     "output_type": "stream",
     "text": [
      "[0, 1, 2]\n"
     ]
    }
   ],
   "source": [
    "# Select from the start of the list until the third item\n",
    "print(new_list[:3])"
   ]
  },
  {
   "cell_type": "markdown",
   "metadata": {},
   "source": [
    "Another thing we can do is use the ``::`` character to specify a 'step size'. For example, we can select every second element of the list\n",
    "\n",
    "Here are some examples of how this is used:"
   ]
  },
  {
   "cell_type": "code",
   "execution_count": 28,
   "metadata": {},
   "outputs": [
    {
     "name": "stdout",
     "output_type": "stream",
     "text": [
      "[0, 2, 4]\n"
     ]
    }
   ],
   "source": [
    "# Select every second element\n",
    "print(new_list[::2])"
   ]
  },
  {
   "cell_type": "markdown",
   "metadata": {},
   "source": [
    "One particularly useful application of this is to use a step of ``-1``, which reverses a list!"
   ]
  },
  {
   "cell_type": "code",
   "execution_count": 30,
   "metadata": {},
   "outputs": [
    {
     "name": "stdout",
     "output_type": "stream",
     "text": [
      "[5, 4, 3, 2, 1, 0]\n"
     ]
    }
   ],
   "source": [
    "# Reverse the list using a step\n",
    "print(new_list[::-1])"
   ]
  },
  {
   "cell_type": "markdown",
   "metadata": {},
   "source": [
    "### Dictionaries "
   ]
  },
  {
   "cell_type": "markdown",
   "metadata": {},
   "source": [
    "Next, we'll look at a data structure that is somewhat like lists, but with some key differences. \n",
    "\n",
    "Here's an example to understand why we might want to use a dictionary: Say a teacher wants to keep track of some attributes of the students of thier class and store them in a list. The information we want to store is the number of students in the class which is 17, the average grade which is 84, the average midterm score which is 83, the average final exam score which is 80.\n",
    "\n",
    "We CAN do this with a list, the code is just ``class_info = [17,84,83,80]``\n",
    "\n",
    "But what if we want to access that info? Sure we could just *remember* that the number of students is first, the final grades are second, and so on... But what if instead of 4 things to keep track of, we had 100, 1,000, or even 1,000,000?\n",
    "\n",
    "Dictionaries are our solution to this problem, because they allow you to search them by a key instead of by an index like lists.\n",
    "\n",
    "Dictionaries are declared using ``{ }``, and each element is formatted as a key ``key_name`` then a ``:`` followed by the data to be stored at that key. For example, ``new_dict = {'one': 1, 'two':2, 'string':'string','list':[0,1,2], 'dict':{'key':3}}``\n",
    "\n",
    "Let's get into some coding to see how dictionaries can make our class example easier:"
   ]
  },
  {
   "cell_type": "code",
   "execution_count": 2,
   "metadata": {},
   "outputs": [
    {
     "name": "stdout",
     "output_type": "stream",
     "text": [
      "{'num_students': 17}\n"
     ]
    }
   ],
   "source": [
    "# First, lets make a new dictionary and add the first item\n",
    "new_dict = {'num_students': 17}\n",
    "print(new_dict)"
   ]
  },
  {
   "cell_type": "markdown",
   "metadata": {},
   "source": [
    "Adding items to a dictionary is easy, we just set the ``dict['new_key'] = new_item`` and it gets added to the dictionary\n",
    "\n",
    "Knowing this, let's add the next two items:"
   ]
  },
  {
   "cell_type": "code",
   "execution_count": 3,
   "metadata": {},
   "outputs": [],
   "source": [
    "# Add the next two items, avg_grade and avg_midterm\n",
    "new_dict['avg_grade'] = 84\n",
    "new_dict['avg_midterm'] = 83"
   ]
  },
  {
   "cell_type": "markdown",
   "metadata": {},
   "source": [
    "Seeing how we've doing this, try to add the final item ``avg_final`` yourself in the box below!"
   ]
  },
  {
   "cell_type": "code",
   "execution_count": null,
   "metadata": {},
   "outputs": [],
   "source": [
    "# Add the final item avg_final with its value 80\n",
    "new_dict['avg_final'] = 80"
   ]
  },
  {
   "cell_type": "markdown",
   "metadata": {},
   "source": [
    "To access items in a dictionary, we call it like a list, but we give it the key name instead of the index.\n",
    "\n",
    "Like so:"
   ]
  },
  {
   "cell_type": "code",
   "execution_count": 4,
   "metadata": {},
   "outputs": [
    {
     "name": "stdout",
     "output_type": "stream",
     "text": [
      "17\n"
     ]
    }
   ],
   "source": [
    "# Print the number of students by accessing the dictionary with key 'num_students'\n",
    "print(new_dict['num_students'])"
   ]
  },
  {
   "cell_type": "markdown",
   "metadata": {},
   "source": [
    "We can see how this makes it much easier to find data you are looking for!\n",
    "\n",
    "Remember, when you're looking for specifically named attributes of something, dictionaries are a helpful tool to make that much easier than searching for it in a list."
   ]
  },
  {
   "cell_type": "markdown",
   "metadata": {},
   "source": [
    "### Discussion Question"
   ]
  },
  {
   "cell_type": "markdown",
   "metadata": {},
   "source": [
    "Now that we know about lists and dictionaries, what are some reasons you might want to use each? Can you think of a situation for each of them where it would be a better choice than the other? Record your thoughts in your Breakout Rooms in the Google Document linked below:\n",
    "\n",
    "https://docs.google.com/document/d/12oTzNynYDFmnu2arVQYUZoeupl8mgt1YlanRb8R-0yM/edit?usp=sharing"
   ]
  },
  {
   "cell_type": "markdown",
   "metadata": {},
   "source": [
    "### Tuples and Sets"
   ]
  },
  {
   "cell_type": "markdown",
   "metadata": {},
   "source": [
    "Next, we'll briefly touch on two other data structures that are good to know, ``tuples`` and ``sets``.\n",
    "\n",
    "``Tuples`` are a lot like ``lists``, but there are a few key differences and they are defined by ``( )`` instead of ``[ ]`` like ``lists``.\n",
    "\n",
    "Here's an example:"
   ]
  },
  {
   "cell_type": "code",
   "execution_count": 57,
   "metadata": {},
   "outputs": [],
   "source": [
    "# Make a new tuple with the numbers 0,1,2\n",
    "new_tuple = (0,1,2)"
   ]
  },
  {
   "cell_type": "code",
   "execution_count": 58,
   "metadata": {},
   "outputs": [
    {
     "name": "stdout",
     "output_type": "stream",
     "text": [
      "1\n"
     ]
    }
   ],
   "source": [
    "# You can access elements in tuples the same way as with lists\n",
    "# Print the first item in the tuple\n",
    "print(new_tuple[0])"
   ]
  },
  {
   "cell_type": "markdown",
   "metadata": {},
   "source": [
    "The main difference between tuples and lists though, is that once you create a tuple it cannot be changed.\n",
    "\n",
    "Therefore, if you try to add to it, you'll get an error like this:"
   ]
  },
  {
   "cell_type": "code",
   "execution_count": 59,
   "metadata": {},
   "outputs": [
    {
     "ename": "AttributeError",
     "evalue": "'tuple' object has no attribute 'append'",
     "output_type": "error",
     "traceback": [
      "\u001b[1;31m---------------------------------------------------------------------------\u001b[0m",
      "\u001b[1;31mAttributeError\u001b[0m                            Traceback (most recent call last)",
      "\u001b[1;32m<ipython-input-59-bd14199f9eb0>\u001b[0m in \u001b[0;36m<module>\u001b[1;34m\u001b[0m\n\u001b[1;32m----> 1\u001b[1;33m \u001b[0mnew_tuple\u001b[0m\u001b[1;33m.\u001b[0m\u001b[0mappend\u001b[0m\u001b[1;33m(\u001b[0m\u001b[1;36m4\u001b[0m\u001b[1;33m)\u001b[0m\u001b[1;33m\u001b[0m\u001b[1;33m\u001b[0m\u001b[0m\n\u001b[0m",
      "\u001b[1;31mAttributeError\u001b[0m: 'tuple' object has no attribute 'append'"
     ]
    }
   ],
   "source": [
    "# Try to add the number 4 to the tuple\n",
    "new_tuple.append(4)"
   ]
  },
  {
   "cell_type": "markdown",
   "metadata": {},
   "source": [
    "The other data structure we'll brifely cover is ``sets``, which are defined using ``{ }`` like dictionaries, but without the ``key:value`` format for elements.\n",
    "\n",
    "``Sets`` have no order like ``lists`` and ``tuples``, so they can't be called with an index, but they do have built-in 'set operations' which are a bit like the Boolean operations ``and``, ``not``, and ``or`` that we learned about earlier.\n",
    "\n",
    "Here's a look at that:"
   ]
  },
  {
   "cell_type": "code",
   "execution_count": 60,
   "metadata": {},
   "outputs": [],
   "source": [
    "# First we need some sets to operate on\n",
    "set_odds = {1,3,5,7,9}\n",
    "set_threes = {3,6,9}"
   ]
  },
  {
   "cell_type": "code",
   "execution_count": 62,
   "metadata": {},
   "outputs": [
    {
     "name": "stdout",
     "output_type": "stream",
     "text": [
      "{1, 3, 5, 6, 7, 9}\n"
     ]
    }
   ],
   "source": [
    "# The | operation works like the 'or' operator, returning things that are in set 1 OR set 2\n",
    "print(set_odds | set_threes)"
   ]
  },
  {
   "cell_type": "code",
   "execution_count": 65,
   "metadata": {},
   "outputs": [
    {
     "name": "stdout",
     "output_type": "stream",
     "text": [
      "{9, 3}\n"
     ]
    }
   ],
   "source": [
    "# The & operation works like the 'and' operator, returning things that are in set 1 AND set 2\n",
    "print(set_odds & set_threes) # Remember that sets have no order, so these might not come out in sorted order"
   ]
  },
  {
   "cell_type": "code",
   "execution_count": 67,
   "metadata": {},
   "outputs": [
    {
     "name": "stdout",
     "output_type": "stream",
     "text": [
      "{1, 5, 7}\n"
     ]
    }
   ],
   "source": [
    "# Finally, the - operation works like you might expect subtraction to work, returning things in set 1 but NOT set 2\n",
    "print(set_odds - set_threes)"
   ]
  },
  {
   "cell_type": "markdown",
   "metadata": {},
   "source": [
    "## Comparison Statements"
   ]
  },
  {
   "cell_type": "markdown",
   "metadata": {},
   "source": [
    "Next, we'll go over comparison control statements, which allow different pieces of code to be executed based on True/False statements"
   ]
  },
  {
   "cell_type": "markdown",
   "metadata": {},
   "source": [
    "### If Statements"
   ]
  },
  {
   "cell_type": "markdown",
   "metadata": {},
   "source": [
    "The first control statement that is important for us to know is the classic ``if`` statement.\n",
    "\n",
    "Here's how it works:"
   ]
  },
  {
   "cell_type": "code",
   "execution_count": 68,
   "metadata": {},
   "outputs": [
    {
     "name": "stdout",
     "output_type": "stream",
     "text": [
      "First if statment\n"
     ]
    }
   ],
   "source": [
    "# Example\n",
    "if(True): # Note this one will always print because the condition 'True' is always equal to True. \n",
    "    print (\"First if statment!\") # The real value of if statements comes from changing this."
   ]
  },
  {
   "cell_type": "markdown",
   "metadata": {},
   "source": [
    "As an example problem for this section, let's try to write some code that will tell us whether a number is postive, negative, or zero using these conditional statements:"
   ]
  },
  {
   "cell_type": "code",
   "execution_count": 4,
   "metadata": {},
   "outputs": [
    {
     "name": "stdout",
     "output_type": "stream",
     "text": [
      "The number is negative\n"
     ]
    }
   ],
   "source": [
    "# Solution with only IF statements\n",
    "if_number = -5 # Try changing this number to 0 or a positive number and see how the result changes\n",
    "if(if_number < 0):\n",
    "    print (\"The number is negative\")\n",
    "if(if_number > 0):\n",
    "    print (\"The number is positive\")\n",
    "if(if_number == 0):\n",
    "    print (\"The number is zero\")"
   ]
  },
  {
   "cell_type": "markdown",
   "metadata": {},
   "source": [
    "### Else Statements"
   ]
  },
  {
   "cell_type": "markdown",
   "metadata": {},
   "source": [
    "We can make the above code better though, instead of stacking so many if statements, we can use ``else`` to basically say\n",
    "\n",
    "``If (condition) then do thing_1, but ELSE if not then do thing_2``\n",
    "\n",
    "Let's apply that to the code we had before:"
   ]
  },
  {
   "cell_type": "code",
   "execution_count": 5,
   "metadata": {},
   "outputs": [
    {
     "name": "stdout",
     "output_type": "stream",
     "text": [
      "The number is negative\n",
      "The number is zero\n"
     ]
    }
   ],
   "source": [
    "# Because if a number is not greater than zero or less than zero it must BE zero right?\n",
    "# So we don't really need to check that last condition, let's replace it with and ELSE statement and see what happens.\n",
    "#Same solution but replace the final IF with just ELSE\n",
    "if_number = -5 \n",
    "if(if_number < 0):\n",
    "    print (\"The number is negative\")\n",
    "if(if_number > 0):\n",
    "    print (\"The number is positive\")\n",
    "else:\n",
    "    print (\"The number is zero\")"
   ]
  },
  {
   "cell_type": "markdown",
   "metadata": {},
   "source": [
    "Uh oh, that didn't work, it printed two things! Let's look at why that happened.\n",
    "\n",
    "In the first if statement, the code saw that the number was less than zero so it printed \"The number is negative\". Then, in the second if statement, the code saw that the condition was False, so it executed the else statement and printed \"The number is zero\".\n",
    "\n",
    "To fix this problem, let's look at one last control statement: ``Elif`` statements"
   ]
  },
  {
   "cell_type": "markdown",
   "metadata": {},
   "source": [
    "### Elif statements"
   ]
  },
  {
   "cell_type": "markdown",
   "metadata": {},
   "source": [
    "``Elif`` statements, as you can see in the name, are a combination of else and if statements that allow is to say \n",
    "\n",
    "``If (condition_1) then do thing_1, but ELSE if not IF (condition_2) then do thing_2``\n",
    "\n",
    "This will allow us to fix the problem in the code we've been working with that caused it to print twice by only allowing one of the conditions to execute:"
   ]
  },
  {
   "cell_type": "code",
   "execution_count": 75,
   "metadata": {},
   "outputs": [
    {
     "name": "stdout",
     "output_type": "stream",
     "text": [
      "The number is negative\n"
     ]
    }
   ],
   "source": [
    "# Replacing the second if with elif makes the whole thing just one big statement!\n",
    "# Now everything will work as intended\n",
    "if_number = -5 \n",
    "if(if_number < 0):\n",
    "    print (\"The number is negative\")\n",
    "elif(if_number > 0):\n",
    "    print (\"The number is positive\")\n",
    "else:\n",
    "    print (\"The number is zero\")"
   ]
  },
  {
   "cell_type": "markdown",
   "metadata": {},
   "source": [
    "Now, instead of first checking an ``IF`` and then an ``IF-ELSE`` which made it check two statements and print twice, we combined them into an ``IF-ELIF-ELSE`` statement that could only print once, fixing the error!"
   ]
  },
  {
   "cell_type": "markdown",
   "metadata": {},
   "source": [
    "## Conditional Execution"
   ]
  },
  {
   "cell_type": "markdown",
   "metadata": {},
   "source": [
    "The next thing we'll look at is ``for`` loops, and specifically how they can be used with some of the data structures we learned about earlier."
   ]
  },
  {
   "cell_type": "markdown",
   "metadata": {},
   "source": [
    "### For Loops"
   ]
  },
  {
   "cell_type": "markdown",
   "metadata": {},
   "source": [
    "The primary use we'll have for ``for`` loops has to do with their interactions with lists. Using a ``for`` loop, you can easily iterate through a list performing an action on every element.\n",
    "\n",
    "Here are a few examples so you can see how that works:"
   ]
  },
  {
   "cell_type": "code",
   "execution_count": 76,
   "metadata": {},
   "outputs": [],
   "source": [
    "# First, let's make a list\n",
    "new_list = [0,1,2,3,4,5]"
   ]
  },
  {
   "cell_type": "code",
   "execution_count": 78,
   "metadata": {},
   "outputs": [
    {
     "name": "stdout",
     "output_type": "stream",
     "text": [
      "0\n",
      "1\n",
      "2\n",
      "3\n",
      "4\n",
      "5\n"
     ]
    }
   ],
   "source": [
    "# Now let's try out a for loop to print out each element\n",
    "for each in new_list:\n",
    "    print (each)\n"
   ]
  },
  {
   "cell_type": "markdown",
   "metadata": {},
   "source": [
    "We can see that this ends up calling the print() function 6 times, once per element in the list to print it!"
   ]
  },
  {
   "cell_type": "markdown",
   "metadata": {},
   "source": [
    "Another key thing to know with ``for`` loops for lists is how to use the ``range()`` function. ``Range()`` can be used to iterate through only certain parts of a list.\n",
    "\n",
    "Here's how to use it:"
   ]
  },
  {
   "cell_type": "code",
   "execution_count": 85,
   "metadata": {},
   "outputs": [
    {
     "name": "stdout",
     "output_type": "stream",
     "text": [
      "0\n",
      "1\n",
      "2\n",
      "3\n",
      "4\n",
      "5\n",
      "6\n",
      "7\n",
      "8\n",
      "9\n"
     ]
    }
   ],
   "source": [
    "# Range() returns an ordered set of numbers from 0 up to, but not including, the number you input.\n",
    "# Print the first 10 numbers using the range() function\n",
    "for each in range(10):\n",
    "    print (each)"
   ]
  },
  {
   "cell_type": "code",
   "execution_count": 86,
   "metadata": {},
   "outputs": [
    {
     "name": "stdout",
     "output_type": "stream",
     "text": [
      "5\n",
      "6\n",
      "7\n",
      "8\n",
      "9\n"
     ]
    }
   ],
   "source": [
    "# If you give range() 2 inputs, the first number will act as the starting point, and the second number will work like before.\n",
    "# Print the second set of 5 numbers (5,6,7,8,9) using the range() function\n",
    "for each in range(5,10):\n",
    "    print(each)"
   ]
  },
  {
   "cell_type": "code",
   "execution_count": 7,
   "metadata": {},
   "outputs": [
    {
     "name": "stdout",
     "output_type": "stream",
     "text": [
      "1\n",
      "2\n",
      "3\n",
      "4\n"
     ]
    }
   ],
   "source": [
    "# This can be used to get certain parts of lists by using the list indexes\n",
    "new_list = [0,1,2,3,4,5]\n",
    "# Print all numbers except the ends 0 and 5 using a for loop and the range() function\n",
    "for i in range(1,5):\n",
    "    print(new_list[i])"
   ]
  },
  {
   "cell_type": "markdown",
   "metadata": {},
   "source": [
    "## List Comprehensions"
   ]
  },
  {
   "cell_type": "markdown",
   "metadata": {},
   "source": [
    "Next, we'll disucss list comprehensions, which may seem complex-looking at first, but once you understand them they are a powerful tool for quickly creating lists that you may need to make. \n",
    "\n",
    "To learn how to create and use them, let's look at some code:"
   ]
  },
  {
   "cell_type": "code",
   "execution_count": 89,
   "metadata": {},
   "outputs": [
    {
     "name": "stdout",
     "output_type": "stream",
     "text": [
      "[0, 1, 4, 9, 16, 25, 36, 49, 64, 81]\n"
     ]
    }
   ],
   "source": [
    "# Assume we want to make a list of the square of the first 10 intergers from 0 to 9\n",
    "# Here's how we'd do that in a list\n",
    "squares = [] # Create an empty list to add things to\n",
    "for i in range(10):\n",
    "    squares.append(i ** 2)\n",
    "print(squares)"
   ]
  },
  {
   "cell_type": "markdown",
   "metadata": {},
   "source": [
    "This works just fine, but with list comprehensions, we can do this in only one line!"
   ]
  },
  {
   "cell_type": "code",
   "execution_count": 90,
   "metadata": {},
   "outputs": [
    {
     "name": "stdout",
     "output_type": "stream",
     "text": [
      "[0, 1, 4, 9, 16, 25, 36, 49, 64, 81]\n"
     ]
    }
   ],
   "source": [
    "# List comprehensions look something like list = [n for n in range() if <condition>]\n",
    "# So if we do [n ** 2 for n in range(10)], We can get a list of n ** 2 for all values in range(10) which is what we want!\n",
    "print([n ** 2 for n in range(10)])"
   ]
  },
  {
   "cell_type": "markdown",
   "metadata": {},
   "source": [
    "Look at that! The exact same list made in a single line. There are also a few more things we can do with list comprehensions.\n",
    "\n",
    "Adding an ``if`` statement on the end allows us to trim the values to fit certain condition:"
   ]
  },
  {
   "cell_type": "code",
   "execution_count": 92,
   "metadata": {},
   "outputs": [
    {
     "name": "stdout",
     "output_type": "stream",
     "text": [
      "[0, 1, 4, 9, 16, 25, 36, 49]\n"
     ]
    }
   ],
   "source": [
    "# Say we wanted the same list, but only the squares that ended up being less than 50\n",
    "# That can be done by adding a if n ** 2 < 50 to the end like this\n",
    "print([n ** 2 for n in range(10) if n ** 2 < 50])"
   ]
  },
  {
   "cell_type": "markdown",
   "metadata": {},
   "source": [
    "So we understand, let's try it again with a new problem and work through it step-by-step.\n",
    "\n",
    "**Let's say we want a list of all of the ODD cubes (raised to the 3rd power) of the numbers between 1 and 15.**\n",
    "\n",
    "There are 3 things we need for a list comprehension: The operation, the range, and the condition. \n",
    "\n",
    "Looking at our problem, we want the cubes of the numbers, so our operation will be ``n ** 3`` to raise the numbers to the third power.\n",
    "\n",
    "The range is easy enough to figure out, the numbers between 1 and 15 can be found with ``n in range(1,16)``\n",
    "\n",
    "So far, we have ``[n ** 3 for n in range(1,16)]``"
   ]
  },
  {
   "cell_type": "code",
   "execution_count": 94,
   "metadata": {},
   "outputs": [
    {
     "name": "stdout",
     "output_type": "stream",
     "text": [
      "[1, 8, 27, 64, 125, 216, 343, 512, 729, 1000, 1331, 1728, 2197, 2744, 3375]\n"
     ]
    }
   ],
   "source": [
    "# Now we can begin on the comprehension\n",
    "print ([n ** 3 for n in range(1,16)])\n",
    "\n",
    "# What we have so far will print all of the cubes of the first 15 numbers, but we want only the ODD ones\n",
    "# This means we need an if statement!"
   ]
  },
  {
   "cell_type": "markdown",
   "metadata": {},
   "source": [
    "In this problem, the condition is that the cube is ODD. In python the standard way to find odd numbers is using the ``%`` operator, which returns the remainder after division by a number. If you divide a number by 2 and it has a remainder or 1, you know it must be odd. Therefore, for our condition, we want the cube % 2 to be equal to 1. In code, this is ``(n ** 3) % 2 == 1``\n",
    "\n",
    "Now we have all the pieces we need to put the comprehension together!\n",
    "\n",
    "The format is ``[operation for range if condition]``, so plugging things in we get:\n",
    "\n",
    "``[n ** 3 for n in range(1,16) if (n ** 3) \\% 2 == 1]``\n",
    "\n",
    "Let's run that and see what we get!"
   ]
  },
  {
   "cell_type": "code",
   "execution_count": 93,
   "metadata": {},
   "outputs": [
    {
     "name": "stdout",
     "output_type": "stream",
     "text": [
      "[1, 27, 125, 343, 729, 1331, 2197, 3375]\n"
     ]
    }
   ],
   "source": [
    "# There we go! As we can see this prints all of the odd cubes of the numbers between 1 and 15!\n",
    "print([n ** 3 for n in range(1,16) if (n ** 3) % 2 == 1])"
   ]
  },
  {
   "cell_type": "markdown",
   "metadata": {},
   "source": [
    "Finally, keep in mind that not every comprehension needs a fancy operation or condition, leaving off the if statement or just having the operation be 'n' are perfectly okay if that's what your list needs. List comprehensions are just a helpful tool to help you quickly get the list you need!"
   ]
  },
  {
   "cell_type": "markdown",
   "metadata": {},
   "source": [
    "## Functions"
   ]
  },
  {
   "cell_type": "markdown",
   "metadata": {},
   "source": [
    "The final thing we'll cover in this section is functions, how to use them, and how to create your own!\n",
    "\n",
    "We actually already have a good amount of experience using functions, as the ``print()``, ``range()``, ``len()`` and other things we've done that end in ``()`` are functions!\n",
    "\n",
    "As we've been doing, we call functions by typing the name of the function, then putting any parameters you want to give the function in parenthesis afterwards."
   ]
  },
  {
   "cell_type": "code",
   "execution_count": 95,
   "metadata": {},
   "outputs": [
    {
     "name": "stdout",
     "output_type": "stream",
     "text": [
      "Hello World!\n"
     ]
    }
   ],
   "source": [
    "# For example, the print() function takes 1 argument, the thing you want to print, and prints it.\n",
    "# Print \"Hello World!\"\n",
    "print(\"Hello World!\") "
   ]
  },
  {
   "cell_type": "markdown",
   "metadata": {},
   "source": [
    "What we'd like to be able to do is make functions of our own.\n",
    "\n",
    "You can define your own functions with a ``def`` statement followed by a function name\n",
    "\n",
    "Here's a look at that:"
   ]
  },
  {
   "cell_type": "code",
   "execution_count": 97,
   "metadata": {},
   "outputs": [
    {
     "name": "stdout",
     "output_type": "stream",
     "text": [
      "Hello World!\n"
     ]
    }
   ],
   "source": [
    "# Make a new function that prints \"Hello World\"\n",
    "def new_function(fun_input):\n",
    "    print(\"Hello World!\")\n",
    "# We can now call our new function just like any other\n",
    "new_function()"
   ]
  },
  {
   "cell_type": "code",
   "execution_count": 98,
   "metadata": {},
   "outputs": [
    {
     "name": "stdout",
     "output_type": "stream",
     "text": [
      "Hello World!\n",
      "Hello Again!\n"
     ]
    }
   ],
   "source": [
    "# Adding an input in your def statement allows your new function to accept inputs\n",
    "# Create a new function that prints \"Hello World\" and then a second string that you input\n",
    "def new_function(fun_input):\n",
    "    print(\"Hello World!\")\n",
    "    print(fun_input)\n",
    "    \n",
    "new_function(\"Hello Again!\")"
   ]
  },
  {
   "cell_type": "markdown",
   "metadata": {},
   "source": [
    "**Now let's try to make a function with a real purpose. A common example used to demonstrate functions is a function that outputs the Fibonavci sequence.** \n",
    "\n",
    "If you're unfamiliar, the Fibonacci sequence is a sequence of numbers that begins with 1,1 and then each new number in the series is equal to the sum of the last two.\n",
    "\n",
    "Let's try to build something like that:"
   ]
  },
  {
   "cell_type": "code",
   "execution_count": 109,
   "metadata": {},
   "outputs": [
    {
     "name": "stdout",
     "output_type": "stream",
     "text": [
      "[1, 1, 2, 3, 5, 8, 13, 21, 34, 55]\n"
     ]
    }
   ],
   "source": [
    "# Let's define a new function with an input for the number of Fibonacci numbers we want\n",
    "def fib(N):\n",
    "    out = [1,1] # First, we need a list to add to and print at the end, and we know the first two terms 1,1 by definition\n",
    "    for i in range(N - 2): # Because N is the number of terms we want and we add 2 at the start, we want to loop (N - 2) times\n",
    "        out.append(out[i] + out[i + 1]) # This step is a little tricky, but how it works is that in the first loop, i is 0 \n",
    "                                        # so we sum the first and second terms to create a thrid, then on the second loop \n",
    "                                        # i is 1 so it sums the 2nd and 3rd terms to create a 4th. This continues until the\n",
    "                                        # loop is done and we have all the terms we need!\n",
    "    print(out) # Finally, print the list we've made\n",
    "# Now let's call the function and see the result\n",
    "fib(10)"
   ]
  },
  {
   "cell_type": "markdown",
   "metadata": {},
   "source": [
    "There we go! Feel free to change the 10 to another number to see that it works no matter if you want 3 numbers or 100!\n",
    "\n",
    "This is a complex example, but by understanding how we made this function, you can see how everything we've learned about lists, loops, and functions can come together to be a powerful tool for making the things you need."
   ]
  },
  {
   "cell_type": "markdown",
   "metadata": {},
   "source": [
    "## What we've covered"
   ]
  },
  {
   "cell_type": "markdown",
   "metadata": {},
   "source": [
    "Upon completion of this notebook, you should be familiar with the following:\n",
    "\n",
    "- Data structures like lists, dictionaries, sets, and tuples\n",
    "- Comparison statements IF, ELSE, and ELIF and how to use them together\n",
    "- For loops and how to use them with lists\n",
    "- List comprehension and how to use it to create complex lists\n",
    "- How to call and create your own functions with custom inputs"
   ]
  }
 ],
 "metadata": {
  "kernelspec": {
   "display_name": "Python 3",
   "language": "python",
   "name": "python3"
  },
  "language_info": {
   "codemirror_mode": {
    "name": "ipython",
    "version": 3
   },
   "file_extension": ".py",
   "mimetype": "text/x-python",
   "name": "python",
   "nbconvert_exporter": "python",
   "pygments_lexer": "ipython3",
   "version": "3.8.3"
  }
 },
 "nbformat": 4,
 "nbformat_minor": 4
}
